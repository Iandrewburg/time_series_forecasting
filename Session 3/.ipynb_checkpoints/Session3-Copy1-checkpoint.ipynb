{
 "cells": [
  {
   "cell_type": "code",
   "execution_count": null,
   "id": "79a24dd3-ed0e-467c-a26a-852b064e1c63",
   "metadata": {},
   "outputs": [],
   "source": [
    "import numpy as np\n",
    "import pandas as pd\n",
    "import matplotlib.pyplot as plt\n",
    "\n",
    "from statsmodels.tsa.api import ExponentialSmoothing, SimpleExpSmoothing, Holt, seasonal_decompose\n",
    "from statsmodels.graphics.tsaplots import plot_pacf, plot_acf\n",
    "from statsmodels.tsa.exponential_smoothing.ets import ETSModel\n",
    "import statsmodels.api as sm\n",
    "\n",
    "import warnings\n",
    "warnings.filterwarnings('ignore')"
   ]
  },
  {
   "cell_type": "code",
   "execution_count": null,
   "id": "8f48573e-9833-40e4-943f-79afcc2fd0ee",
   "metadata": {},
   "outputs": [],
   "source": [
    "MtWashington_weather = pd.read_csv('MtWashingtonDailyTemps.csv', index_col='DATE', parse_dates=True)\n",
    "MtWashington_weather.head()"
   ]
  },
  {
   "cell_type": "code",
   "execution_count": null,
   "id": "d7a854f8",
   "metadata": {},
   "outputs": [],
   "source": []
  },
  {
   "cell_type": "code",
   "execution_count": null,
   "id": "ab230bc9-aaa2-4f81-a07b-48458e3b4646",
   "metadata": {},
   "outputs": [],
   "source": [
    "MtWashington_weather.MinTemp.plot(figsize=(20, 8));"
   ]
  },
  {
   "cell_type": "code",
   "execution_count": null,
   "id": "f94580c3-4ad3-442b-a058-eac6a60c0492",
   "metadata": {},
   "outputs": [],
   "source": [
    "# Moving average smoothing with a = 20\n",
    "MinTemp_smoothed = MtWashington_weather['MinTemp'].rolling(20, center = True).mean()\n",
    "MtWashington_weather['MinTemp'].plot(figsize=(10, 5));\n",
    "MinTemp_smoothed.plot(figsize=(20, 8));"
   ]
  },
  {
   "cell_type": "code",
   "execution_count": null,
   "id": "99eec67d-2920-4459-9c02-fc8888235311",
   "metadata": {},
   "outputs": [],
   "source": [
    "# Moving average smoothing with a = 50\n",
    "MinTemp_masmoothed = MtWashington_weather['MinTemp'].rolling(50, center = True).mean()\n",
    "MtWashington_weather['MinTemp'].plot(figsize=(20, 8))\n",
    "MinTemp_masmoothed.plot(figsize=(20, 8));"
   ]
  },
  {
   "cell_type": "code",
   "execution_count": null,
   "id": "b12b1c6c-bd8d-4a1f-a275-e15521cb24f7",
   "metadata": {},
   "outputs": [],
   "source": [
    "###### Classical Time Series Decomposition\n",
    "airline_passengers = pd.read_csv('airline_passengers.csv', index_col='Month', parse_dates=True)\n",
    "airline_passengers['Passengers'].plot(figsize=(20, 8));"
   ]
  },
  {
   "cell_type": "code",
   "execution_count": null,
   "id": "1959da02-a45e-4292-ab74-a551f735d66f",
   "metadata": {},
   "outputs": [],
   "source": [
    "# Moving average smoothing with a = 12\n",
    "passengers_masmoothed = airline_passengers['Passengers'].rolling(12, center = True).mean()\n",
    "airline_passengers['Passengers'].plot(figsize=(20, 8))\n",
    "passengers_masmoothed.plot(figsize=(20, 8));"
   ]
  },
  {
   "cell_type": "code",
   "execution_count": null,
   "id": "5d1ae540-4224-4e08-8d7c-997364108a2e",
   "metadata": {},
   "outputs": [],
   "source": [
    "# Additive decomposition \n",
    "passengers_detrended_add = airline_passengers['Passengers'] - passengers_masmoothed\n",
    "passengers_detrended_add.plot(figsize=(20, 8));"
   ]
  },
  {
   "cell_type": "code",
   "execution_count": null,
   "id": "cad91d23-b1ec-42c0-94a1-85cd6459ab24",
   "metadata": {},
   "outputs": [],
   "source": [
    "#multiplicative decomposition\n",
    "passengers_detrended_mult = airline_passengers['Passengers']/passengers_masmoothed\n",
    "passengers_detrended_mult.plot(figsize=(20, 8));"
   ]
  },
  {
   "cell_type": "code",
   "execution_count": null,
   "id": "73fb2dac-59ce-4cd5-b53b-7be685534fe8",
   "metadata": {},
   "outputs": [],
   "source": [
    "# automatiszed classical additive decomposition\n",
    "passengers_class_add = seasonal_decompose(airline_passengers['Passengers'], model='additive')\n",
    "passengers_class_add.plot();"
   ]
  },
  {
   "cell_type": "code",
   "execution_count": null,
   "id": "296dc8e2-6ade-4db1-bbf5-d4af8536f081",
   "metadata": {},
   "outputs": [],
   "source": [
    "# automatiszed classical multiplicative decomposition\n",
    "passengers_class_mult = seasonal_decompose(airline_passengers['Passengers'], model='multipliative')\n",
    "passengers_class_mult.plot();"
   ]
  },
  {
   "cell_type": "code",
   "execution_count": null,
   "id": "c7e3c037-43df-47ae-a2c3-dbf04b6212d4",
   "metadata": {},
   "outputs": [],
   "source": [
    "# Forecasting with classical decomposition\n",
    "# Separate the series into training and test data\n",
    "train=airline_passengers[0:120] \n",
    "test=airline_passengers[120:]\n",
    "\n",
    "# decompose the training data via classical decomposition\n",
    "train_class_mult = seasonal_decompose(train['Passengers'], model='multipliative')\n",
    "#save components as separate variables\n",
    "train_class_mult  = pd.concat(\n",
    "    [train_class_mult.seasonal, \n",
    "     train_class_mult.trend, \n",
    "     train_class_mult.resid, \n",
    "     train_class_mult.trend * train_class_mult.resid, \n",
    "     train_class_mult.observed], axis=1)\n",
    "train_class_mult.columns = ['seasonal', 'trend', 'remainders', 'seasonal_adj', 'actual_values']\n",
    "\n",
    "\n",
    "# create a forecast dataframe for 24 months with the same columns as train_class_mult and the seasonal component \n",
    "class_forecast = train_class_mult.iloc[-24:,:]\n",
    "# set the index to that of the test series\n",
    "class_forecast.index = test.index\n",
    "class_forecast = class_forecast.drop('actual_values', axis=1)\n",
    "class_forecast[['trend', 'remainders', 'seasonal_adj']] = np.nan\n",
    "\n",
    "# naive forecast for trend and remainders\n",
    "class_forecast['trend'] = train_class_mult.loc[train_class_mult.index[-7], 'trend']\n",
    "class_forecast['remainders'] = train_class_mult.loc[train_class_mult.index[-7], 'remainders']\n",
    "class_forecast['seasonal_adj'] = class_forecast['trend'] * class_forecast['remainders']\n",
    "# forecast based on naive forecast of seasonally adjusted component and seasonal component\n",
    "class_forecast['forecast'] = class_forecast['seasonal_adj'] * class_forecast['seasonal']\n",
    "\n",
    "train[\"Passengers\"].plot(figsize=(20, 8))\n",
    "test[\"Passengers\"].plot(figsize=(20, 8))\n",
    "class_forecast['forecast'].plot(figsize=(20, 8));\n"
   ]
  },
  {
   "cell_type": "code",
   "execution_count": null,
   "id": "2818d89d-1ffb-4928-9c87-f5f58845f895",
   "metadata": {},
   "outputs": [],
   "source": [
    "##### Exponential Smoothing\n",
    "# Simple exponential smoothing with alpha = 0.05\n",
    "MinTemp_expsmoothed = SimpleExpSmoothing(MtWashington_weather['MinTemp']).fit(smoothing_level = 0.05).fittedvalues\n",
    "MtWashington_weather['MinTemp'].plot(figsize=(20, 8))\n",
    "MinTemp_expsmoothed.plot(figsize=(20, 8));\n"
   ]
  },
  {
   "cell_type": "code",
   "execution_count": null,
   "id": "614d3d36-12d9-47dd-9f2d-1defcfff3295",
   "metadata": {},
   "outputs": [],
   "source": [
    "# Holt-Winter's seasonal method with additive trend and seasonality\n",
    "MtWashington_weather['MinTemp_HoltW'] = ExponentialSmoothing(MtWashington_weather['MinTemp'],  trend = \"add\",seasonal=\"add\",seasonal_periods=12).fit().fittedvalues\n",
    "MtWashington_weather['MinTemp'].plot(figsize=(20, 8))\n",
    "MtWashington_weather['MinTemp_HoltW'].plot(figsize=(20, 8));"
   ]
  },
  {
   "cell_type": "code",
   "execution_count": null,
   "id": "5c07e81e-70e4-442d-9793-83c8cf0168fd",
   "metadata": {},
   "outputs": [],
   "source": [
    "# Residuals Diagnostics\n",
    "MtWashington_weather[\"Residual\"] = MtWashington_weather['MinTemp'] - MtWashington_weather['MinTemp_HoltW']\n",
    "MtWashington_weather[\"Residual\"].plot(figsize=(20, 8));\n",
    "plot_acf(MtWashington_weather[\"Residual\"]);"
   ]
  },
  {
   "cell_type": "code",
   "execution_count": null,
   "id": "32347c82-b024-4027-b249-72aa90648132",
   "metadata": {},
   "outputs": [],
   "source": [
    "MtWashington_weather[\"Residual\"].hist(bins = 30);"
   ]
  },
  {
   "cell_type": "code",
   "execution_count": null,
   "id": "a8b5d1c7-da8b-48da-8193-29cb5ed72ccf",
   "metadata": {},
   "outputs": [],
   "source": [
    "# Holt-Winter's seasonal method with multiplicative trend and seasonality\n",
    "airline_passengers[\"Passengers_ExpTrendSeas\"] = ExponentialSmoothing(airline_passengers[\"Passengers\"],  trend = \"mul\",seasonal=\"mul\",seasonal_periods=12).fit().fittedvalues\n",
    "airline_passengers['Passengers'].plot(figsize=(20, 8))\n",
    "airline_passengers[\"Passengers_ExpTrendSeas\"].plot(figsize=(20, 8));"
   ]
  },
  {
   "cell_type": "code",
   "execution_count": null,
   "id": "ceae7820-17a5-4e57-bda2-4f8d0a31a748",
   "metadata": {},
   "outputs": [],
   "source": [
    "# Residuals\n",
    "airline_passengers[\"Residual\"] = airline_passengers[\"Passengers\"] - airline_passengers[\"Passengers_ExpTrendSeas\"]\n",
    "airline_passengers[\"Residual\"].plot(figsize=(20, 8));\n",
    "plot_acf(airline_passengers[\"Residual\"]);"
   ]
  },
  {
   "cell_type": "code",
   "execution_count": null,
   "id": "d6c50dd5-9efe-42d5-a5ed-bc2f5e6cd07b",
   "metadata": {},
   "outputs": [],
   "source": [
    "airline_passengers[\"Residual\"].hist(bins = 30);"
   ]
  },
  {
   "cell_type": "code",
   "execution_count": null,
   "id": "d9e6eaad",
   "metadata": {},
   "outputs": [],
   "source": [
    "sm.stats.acorr_ljungbox(airline_passengers[\"Residual\"], boxpierce = True)"
   ]
  },
  {
   "cell_type": "code",
   "execution_count": null,
   "id": "45731681-84cb-4fe6-9b31-315199a4d5a7",
   "metadata": {},
   "outputs": [],
   "source": [
    "#Forecasting with ETS model\n",
    "# Separate the series into training and test data\n",
    "train=airline_passengers[0:120] \n",
    "test=airline_passengers[120:]\n",
    "\n",
    "# Fit the model to the test data\n",
    "ETSfit = ETSModel(train[\"Passengers\"],error=\"mul\",trend=\"mul\",seasonal=\"mul\",).fit()\n",
    "train[\"FittedValues\"] = ETSfit.fittedvalues\n",
    "train[\"FittedValues\"].plot(figsize=(20, 8))\n",
    "train[\"Passengers\"].plot(figsize=(20, 8))\n",
    "test[\"Passengers\"].plot(figsize=(20, 8))"
   ]
  },
  {
   "cell_type": "code",
   "execution_count": null,
   "id": "4c0d49de-41b5-4018-8761-ab069fd3de25",
   "metadata": {},
   "outputs": [],
   "source": [
    "# get predictions for test period\n",
    "pred = ETSfit.get_prediction(start = test.index[0], end = test.index[len(test)-1])\n",
    "print(pred.summary_frame(alpha=0.05))"
   ]
  },
  {
   "cell_type": "code",
   "execution_count": null,
   "id": "18de41f4-4b25-40cd-a2a4-7e1d9b689023",
   "metadata": {},
   "outputs": [],
   "source": [
    "\n",
    "pred_df = pred.summary_frame(alpha=0.05)\n",
    "\n",
    "train[\"Passengers\"].plot(figsize=(20, 8))\n",
    "test[\"Passengers\"].plot(figsize=(20, 8), linestyle=\"dotted\", color=\"red\", label=\"Test Set\")\n",
    "pred_df[\"mean\"].plot(label=\"mean prediction\", color=\"black\")\n",
    "pred_df[\"pi_lower\"].plot(linestyle=\"--\", color=\"grey\", label=\"95% interval\")\n",
    "pred_df[\"pi_upper\"].plot(linestyle=\"--\", color=\"grey\", label=\"_\")\n",
    "plt.legend()"
   ]
  },
  {
   "cell_type": "code",
   "execution_count": null,
   "id": "29d2b858-2131-4cee-98f5-4573d04488d7",
   "metadata": {},
   "outputs": [],
   "source": [
    "# Forecasting in unknown future\n",
    "ETSfit = ETSModel(airline_passengers[\"Passengers\"],error=\"mul\",trend=\"mul\",seasonal=\"mul\",).fit()\n",
    "airline_passengers[\"FittedValues\"] = ETSfit.fittedvalues\n",
    "prediction = ETSfit.get_prediction(start=144, end=204)\n",
    "\n",
    "prediction_df = prediction.summary_frame(alpha=0.05)\n",
    "\n",
    "airline_passengers[\"Passengers\"].plot(figsize=(20, 8))\n",
    "prediction_df[\"mean\"].plot(label=\"mean prediction\", color=\"black\")\n",
    "prediction_df[\"pi_lower\"].plot(linestyle=\"--\", color=\"grey\", label=\"95% interval\")\n",
    "prediction_df[\"pi_upper\"].plot(linestyle=\"--\", color=\"grey\", label=\"_\")\n",
    "plt.legend()"
   ]
  },
  {
   "cell_type": "code",
   "execution_count": null,
   "id": "0dc4756f-1c3e-4883-8e21-4df22a7194b9",
   "metadata": {},
   "outputs": [],
   "source": []
  }
 ],
 "metadata": {
  "kernelspec": {
   "display_name": "Python 3",
   "language": "python",
   "name": "python3"
  },
  "language_info": {
   "codemirror_mode": {
    "name": "ipython",
    "version": 3
   },
   "file_extension": ".py",
   "mimetype": "text/x-python",
   "name": "python",
   "nbconvert_exporter": "python",
   "pygments_lexer": "ipython3",
   "version": "3.7.2"
  }
 },
 "nbformat": 4,
 "nbformat_minor": 5
}
