{
 "cells": [
  {
   "cell_type": "code",
   "execution_count": null,
   "id": "1a66aeb5-af0e-42d4-a18a-5705ee40a8de",
   "metadata": {},
   "outputs": [],
   "source": [
    "import numpy as np\n",
    "import pandas as pd\n",
    "import matplotlib.pyplot as plt\n",
    "\n",
    "from statsmodels.graphics.tsaplots import plot_pacf, plot_acf\n",
    "from sklearn.metrics import mean_absolute_error,mean_squared_error\n",
    "\n",
    "import warnings\n",
    "warnings.filterwarnings('ignore')"
   ]
  },
  {
   "cell_type": "code",
   "execution_count": null,
   "id": "1dc79f44-e7f4-4cc9-8f9d-e9926ae0b2c5",
   "metadata": {},
   "outputs": [],
   "source": [
    "starbucks_stocks = pd.read_csv('starbucks.csv', index_col='Date', parse_dates=True)\n",
    "starbucks_stocks['Close'].plot(figsize=(20, 8));"
   ]
  },
  {
   "cell_type": "code",
   "execution_count": null,
   "id": "2d48c76c-b3e5-4574-8483-4d52f2d9b84d",
   "metadata": {},
   "outputs": [],
   "source": [
    "plot_acf(starbucks_stocks['Close']);"
   ]
  },
  {
   "cell_type": "code",
   "execution_count": null,
   "id": "da4f1bf0-32e5-41a3-9acd-d23e5490659d",
   "metadata": {},
   "outputs": [],
   "source": [
    "plot_pacf(starbucks_stocks['Close']);"
   ]
  },
  {
   "cell_type": "code",
   "execution_count": null,
   "id": "5443446e-acab-4f22-ad0c-632c97d94675",
   "metadata": {},
   "outputs": [],
   "source": [
    "airline_passengers = pd.read_csv('airline_passengers.csv', index_col='Month', parse_dates=True)\n",
    "airline_passengers['Passengers'].plot(figsize=(20, 8));"
   ]
  },
  {
   "cell_type": "code",
   "execution_count": null,
   "id": "1e95e693-154b-4411-ba02-18181721d79d",
   "metadata": {},
   "outputs": [],
   "source": [
    "plot_acf(airline_passengers['Passengers']);"
   ]
  },
  {
   "cell_type": "code",
   "execution_count": null,
   "id": "c1b11d97-17d3-4f75-8432-882a4dfeb3a0",
   "metadata": {},
   "outputs": [],
   "source": [
    "plot_pacf(airline_passengers['Passengers']);"
   ]
  },
  {
   "cell_type": "code",
   "execution_count": null,
   "id": "c5047124-f675-4d9a-b2e2-0654c1a91af6",
   "metadata": {},
   "outputs": [],
   "source": [
    "# Simulate a white noise series\n",
    "mean = 0\n",
    "std = 1 \n",
    "num_observations = 1000\n",
    "whitenoise = pd.Series(np.random.normal(mean, std, size=num_observations))\n",
    "\n",
    "whitenoise.plot(figsize=(20, 8));"
   ]
  },
  {
   "cell_type": "code",
   "execution_count": null,
   "id": "f83cbe61-a32a-4624-b017-b383aed39305",
   "metadata": {},
   "outputs": [],
   "source": [
    "# Simulate a random walk series\n",
    "random_walk = list()\n",
    "random_walk.append(np.random.normal(mean, std))\n",
    "for i in range(1, 5000):\n",
    " error = np.random.normal(mean, std)\n",
    " value = random_walk[i-1] + error\n",
    " random_walk.append(value)\n",
    "pd.Series(random_walk).plot(figsize=(20, 8));"
   ]
  },
  {
   "cell_type": "code",
   "execution_count": null,
   "id": "2b601431-c592-4138-ba67-0154d099e754",
   "metadata": {},
   "outputs": [],
   "source": [
    "### Forecasting with simple forecasting methods\n",
    "starbucks_stocks.index"
   ]
  },
  {
   "cell_type": "code",
   "execution_count": null,
   "id": "afd8455d-7950-42e2-a820-872139e00101",
   "metadata": {},
   "outputs": [],
   "source": [
    "# Split series into training and test set\n",
    "train=starbucks_stocks[0:700] \n",
    "test=starbucks_stocks[700:]\n",
    "train.Close.plot(figsize=(20,8))\n",
    "test.Close.plot(figsize=(20,8))\n",
    "plt.show()"
   ]
  },
  {
   "cell_type": "code",
   "execution_count": null,
   "id": "c8a883b7-ee0f-44fe-97c8-0498fa811949",
   "metadata": {},
   "outputs": [],
   "source": [
    "# Naive forecast\n",
    "y_hat = test.copy()\n",
    "# naive forecast \n",
    "y_hat['naive'] = train['Close'].iloc[len(train)-1]\n",
    "\n",
    "plt.figure(figsize=(20,8))\n",
    "plt.plot(train.index, train['Close'], label='Train')\n",
    "plt.plot(test.index,test['Close'], label='Test')\n",
    "plt.plot(y_hat.index,y_hat['naive'], label='Naive Forecast')\n",
    "plt.legend(loc='best')\n",
    "plt.title(\"Naive Forecast\")\n",
    "plt.show()"
   ]
  },
  {
   "cell_type": "code",
   "execution_count": null,
   "id": "905ee226-0a74-41a8-8758-913688fc0e76",
   "metadata": {},
   "outputs": [],
   "source": [
    "# Forecast with average method\n",
    "y_hat = test.copy()\n",
    "# forecast obtained by average method\n",
    "y_hat['average'] = train['Close'].mean()\n",
    "\n",
    "plt.figure(figsize=(20,8))\n",
    "plt.plot(train.index, train['Close'], label='Train')\n",
    "plt.plot(test.index,test['Close'], label='Test')\n",
    "plt.plot(y_hat.index,y_hat['average'], label=' Forecast with average method')\n",
    "plt.legend(loc='best')\n",
    "plt.title(\"Forecast with average method\")\n",
    "plt.show()"
   ]
  },
  {
   "cell_type": "code",
   "execution_count": null,
   "id": "34a13c7e-f45c-4aae-b85a-0b7b2cc94199",
   "metadata": {},
   "outputs": [],
   "source": [
    "# Forecast with linear extrapolation\n",
    "y_hat = test.copy()\n",
    "y_hat['extrapol'] = 0\n",
    "\n",
    "# forecast obtained with linear extrapolation\n",
    "for i in range(0, len(test)):\n",
    "    y_hat['extrapol'].iloc[i] = train['Close'].iloc[len(train)-1] + (i+1)*(train['Close'].iloc[len(train)-1]-train['Close'].iloc[0])/len(train)\n",
    "\n",
    "plt.figure(figsize=(20,8))\n",
    "plt.plot(train.index, train['Close'], label='Train')\n",
    "plt.plot(test.index,test['Close'], label='Test')\n",
    "plt.plot(y_hat.index,y_hat['extrapol'], label=' Forecast with linear extrapolation')\n",
    "plt.legend(loc='best')\n",
    "plt.title(\"Forecast with linear extrapolation\")\n",
    "plt.show()\n"
   ]
  },
  {
   "cell_type": "code",
   "execution_count": null,
   "id": "b7557c5f-e72f-471a-b1e9-b083da993102",
   "metadata": {},
   "outputs": [],
   "source": [
    "# Seasonal Naive Forecast\n",
    "airline_passengers = pd.read_csv('airline_passengers.csv', index_col='Month', parse_dates=True)\n",
    "airline_passengers.index"
   ]
  },
  {
   "cell_type": "code",
   "execution_count": null,
   "id": "456a9023-daae-48cc-8150-a4930cd3df6e",
   "metadata": {},
   "outputs": [],
   "source": [
    "# Split series into training and test set\n",
    "train=airline_passengers[0:120] \n",
    "test=airline_passengers[120:]\n",
    "train.Passengers.plot(figsize=(20,8))\n",
    "test.Passengers.plot(figsize=(20,8))\n",
    "plt.show()"
   ]
  },
  {
   "cell_type": "code",
   "execution_count": null,
   "id": "010f1d13-356b-4d44-af9a-ce7acfd407f9",
   "metadata": {},
   "outputs": [],
   "source": [
    "# Forecast with seasonal naive forecasts\n",
    "last12months = train[-12:]\n",
    "snaive_forecasts = pd.concat([last12months, last12months])\n",
    "\n",
    "# re-index the created forecast to the month of the test data\n",
    "start = test.index[0].date()\n",
    "end = test.index[len(test)-1].date()\n",
    "snaive_forecasts.index = pd.date_range(start=start,end=end,freq='MS')\n",
    "\n",
    "y_hat = test.copy()\n",
    "y_hat['snaive_forecasts'] = snaive_forecasts\n",
    "plt.figure(figsize=(20,8))\n",
    "plt.plot(train.index, train['Passengers'], label='Train')\n",
    "plt.plot(test.index,test['Passengers'], label='Test')\n",
    "plt.plot(y_hat.index,y_hat['snaive_forecasts'], label=' Forecast with seasonal naive forecasts')\n",
    "plt.legend(loc='best')\n",
    "plt.title(\"Forecast with seasonal naive forecasts\")\n",
    "plt.show()\n",
    "\n"
   ]
  },
  {
   "cell_type": "code",
   "execution_count": null,
   "id": "5f3c30ad-c3f8-44c7-ad01-a08033ec31c5",
   "metadata": {},
   "outputs": [],
   "source": [
    "######## Cross-validation\n",
    "starbucks_stocks = pd.read_csv('starbucks.csv', index_col='Date', parse_dates=True)\n",
    "\n",
    "# Average Method\n",
    "starbucks_stocks['Close_AverageMethPrediction'] = 0\n",
    "# Forecast with average method\n",
    "for i in range(0, len(starbucks_stocks)):\n",
    "    starbucks_stocks['Close_AverageMethPrediction'].iloc[i] = starbucks_stocks['Close'].iloc[:i].mean()\n",
    "# 1-step-ahead forecasting error\n",
    "starbucks_stocks['forecasting_error_avgmeth'] = starbucks_stocks['Close'] - starbucks_stocks['Close_AverageMethPrediction']\n",
    "\n",
    "# Naive forecast\n",
    "starbucks_stocks['Close_NaivePrediction'] = starbucks_stocks['Close'].shift(1)\n",
    "# 1-step-ahead forecasting error\n",
    "starbucks_stocks['forecasting_error_naive'] = starbucks_stocks['Close'] - starbucks_stocks['Close_NaivePrediction']\n",
    "starbucks_stocks.head()"
   ]
  },
  {
   "cell_type": "code",
   "execution_count": null,
   "id": "60cf55cd-0261-4749-9de5-d3edbcedbef4",
   "metadata": {},
   "outputs": [],
   "source": [
    "# mean squared & absolute 1-step-ahead forecasting errors\n",
    "print(mean_absolute_error(starbucks_stocks['Close_NaivePrediction'][1:],starbucks_stocks['Close'][1:]))\n",
    "print(mean_squared_error(starbucks_stocks['Close_NaivePrediction'][1:],starbucks_stocks['Close'][1:]))\n",
    "\n",
    "print(mean_absolute_error(starbucks_stocks['Close_AverageMethPrediction'][1:],starbucks_stocks['Close'][1:]))\n",
    "print(mean_squared_error(starbucks_stocks['Close_AverageMethPrediction'][1:],starbucks_stocks['Close'][1:]))"
   ]
  },
  {
   "cell_type": "code",
   "execution_count": null,
   "id": "61a2d954-d7b8-481d-b077-6111a47da433",
   "metadata": {},
   "outputs": [],
   "source": [
    "# Dealing with missing data\n",
    "# This data set has some missing observations \n",
    "airline_passengers2 = pd.read_csv('airline_passengers_withNaN.csv', index_col='Month', parse_dates=True)\n",
    "\n",
    "# Fill missings with forward fill\n",
    "airline_passengers2 = airline_passengers2.assign(FillMissing_forwardfill=airline_passengers2.Passengers.fillna(method = 'ffill'))\n",
    "airline_passengers2.FillMissing_forwardfill.plot()\n",
    "airline_passengers2.Passengers.plot()"
   ]
  },
  {
   "cell_type": "code",
   "execution_count": null,
   "id": "7e1820c0-ed09-4c0d-a510-b2e4c9181eb3",
   "metadata": {},
   "outputs": [],
   "source": [
    "# Fill missings with rolling mean\n",
    "airline_passengers2 = airline_passengers2.assign(FillMissing_movingavg=airline_passengers2.Passengers.fillna(airline_passengers2[\"Passengers\"].rolling(10,min_periods=1).mean()))\n",
    "airline_passengers2.FillMissing_movingavg.plot()\n",
    "airline_passengers2.Passengers.plot();\n",
    "\n"
   ]
  },
  {
   "cell_type": "code",
   "execution_count": null,
   "id": "3ffc4d7e-2e65-443f-9807-d968b19816a5",
   "metadata": {},
   "outputs": [],
   "source": []
  }
 ],
 "metadata": {
  "kernelspec": {
   "display_name": "Python 3",
   "language": "python",
   "name": "python3"
  },
  "language_info": {
   "codemirror_mode": {
    "name": "ipython",
    "version": 3
   },
   "file_extension": ".py",
   "mimetype": "text/x-python",
   "name": "python",
   "nbconvert_exporter": "python",
   "pygments_lexer": "ipython3",
   "version": "3.7.2"
  }
 },
 "nbformat": 4,
 "nbformat_minor": 5
}
