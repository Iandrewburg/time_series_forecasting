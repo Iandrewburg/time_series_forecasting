{
 "cells": [
  {
   "cell_type": "code",
   "execution_count": null,
   "id": "3f5de1ee-f213-42c9-908d-701f45038717",
   "metadata": {},
   "outputs": [],
   "source": [
    "import numpy as np\n",
    "import pandas as pd\n",
    "import matplotlib.pyplot as plt\n"
   ]
  },
  {
   "cell_type": "code",
   "execution_count": null,
   "id": "5d157aba-93b8-48e8-91db-320daf68c4c3",
   "metadata": {},
   "outputs": [],
   "source": [
    "starbucks_stocks = pd.read_csv('starbucks.csv', index_col='Date', parse_dates=True)"
   ]
  },
  {
   "cell_type": "code",
   "execution_count": null,
   "id": "21e33d85-2130-4ff5-9e72-11200bc86a33",
   "metadata": {
    "scrolled": true
   },
   "outputs": [],
   "source": [
    "starbucks_stocks.head()"
   ]
  },
  {
   "cell_type": "code",
   "execution_count": null,
   "id": "b5a7b3c5-9840-45bb-b7d4-34c4caa9f9c4",
   "metadata": {},
   "outputs": [],
   "source": [
    "starbucks_stocks.index"
   ]
  },
  {
   "cell_type": "code",
   "execution_count": null,
   "id": "2604ff2b-c89f-450b-a60b-498e0be64f6a",
   "metadata": {},
   "outputs": [],
   "source": [
    "print(starbucks_stocks.index[3]-starbucks_stocks.index[2])"
   ]
  },
  {
   "cell_type": "code",
   "execution_count": null,
   "id": "6c41826d-fcd1-4f7c-941c-141e31548557",
   "metadata": {},
   "outputs": [],
   "source": [
    "# Time plot of Starbucks stocks closing price\n",
    "starbucks_stocks['Close'].plot(figsize=(20, 8));"
   ]
  },
  {
   "cell_type": "code",
   "execution_count": null,
   "id": "9bcc0869-7c20-4d43-9b2f-477ae042aaf0",
   "metadata": {},
   "outputs": [],
   "source": [
    "airline_passengers = pd.read_csv('airline_passengers.csv', index_col='Month', parse_dates=True)"
   ]
  },
  {
   "cell_type": "code",
   "execution_count": null,
   "id": "1c7c18bb-2625-4896-a7de-af0ab2147f2d",
   "metadata": {},
   "outputs": [],
   "source": [
    "airline_passengers.head()"
   ]
  },
  {
   "cell_type": "code",
   "execution_count": null,
   "id": "41ebd3bf-95eb-476c-9d23-799b4457c2f9",
   "metadata": {},
   "outputs": [],
   "source": [
    "airline_passengers['Passengers'].plot(figsize=(20, 8));"
   ]
  },
  {
   "cell_type": "code",
   "execution_count": null,
   "id": "ff74a400-035a-4a8c-840b-2dd0542f1ba6",
   "metadata": {},
   "outputs": [],
   "source": [
    "# In the following data set some rows are deleted, i.e. they are not set to NA but the entries are simply removed from the dataset.\n",
    "airline_passengers2 = pd.read_csv('airline_passengers_missingrows.csv', index_col='Month', parse_dates=True)\n",
    "# pd.plot simply draws a line between subsequent observations, whether there are missing months between them or not. -> Careful when examining \n",
    "# a yet unknown time series via pd.plot()\n",
    "airline_passengers2['Passengers'].plot(figsize=(20, 8));"
   ]
  },
  {
   "cell_type": "code",
   "execution_count": null,
   "id": "576ec62c-37a1-4d67-aca2-6ea5ef1e4c07",
   "metadata": {},
   "outputs": [],
   "source": [
    "# See for which months there are data entries\n",
    "airline_passengers2.index[airline_passengers2.index.year < 1952]"
   ]
  },
  {
   "cell_type": "code",
   "execution_count": null,
   "id": "c537b8c1-7189-4745-8928-c1344b712135",
   "metadata": {},
   "outputs": [],
   "source": [
    "# insert rows for the missing months manually\n",
    "# create variables with start and end date of series\n",
    "start = airline_passengers2.index[0].date()\n",
    "end = airline_passengers2.index[len(airline_passengers2)-1].date()\n",
    "\n",
    "# create a series of months from the start date of the series to the end date (freq='MS' means start of the month, 'M' would give end of month)\n",
    "# See here for a list of frequency aliases in panda: https://pandas.pydata.org/pandas-docs/stable/user_guide/timeseries.html#timeseries-offset-aliases\n",
    "new_dates = pd.date_range(start=start,end=end,freq='MS')\n",
    "print(new_dates)"
   ]
  },
  {
   "cell_type": "code",
   "execution_count": null,
   "id": "48533d4e-9cc8-4116-8e47-cc3f6a3a514c",
   "metadata": {},
   "outputs": [],
   "source": [
    "# overwrite the index to also include the dates for which no info is available.\n",
    "airline_passengers2 = airline_passengers2.reindex(new_dates)\n",
    "print(airline_passengers2['Passengers'][airline_passengers2.index.year < 1952])"
   ]
  },
  {
   "cell_type": "code",
   "execution_count": null,
   "id": "dbb9a08c-9778-4c98-9205-67f42ddf01d7",
   "metadata": {},
   "outputs": [],
   "source": [
    "airline_passengers2['Passengers'].plot(figsize=(20, 8));"
   ]
  },
  {
   "cell_type": "code",
   "execution_count": null,
   "id": "1a0fe9d6-0da3-4ad8-9c13-e49de82d0a4f",
   "metadata": {
    "scrolled": true
   },
   "outputs": [],
   "source": [
    "sp500_close = pd.read_csv('sp500_close.csv', index_col=0, parse_dates=True)\n",
    "sp500_close.head()"
   ]
  },
  {
   "cell_type": "code",
   "execution_count": null,
   "id": "e8f562f1-0c76-4384-bc25-0c43fce0a5b2",
   "metadata": {},
   "outputs": [],
   "source": [
    "# As the stock market is closed on Saturday, Sunday and holidays,there are no closing prices for these days. Here it doesn't make much sense \n",
    "# to plot the rows with missing values\n",
    "sp500_close['AAL'].plot(figsize=(20, 8));"
   ]
  },
  {
   "cell_type": "code",
   "execution_count": null,
   "id": "caece8e9-b838-4813-abb4-a851b61ff8d9",
   "metadata": {},
   "outputs": [],
   "source": [
    "aal = sp500_close[['AAL']].copy().dropna()\n",
    "aal.plot(figsize=(20, 8));"
   ]
  },
  {
   "cell_type": "code",
   "execution_count": null,
   "id": "d15d7640-a4eb-457f-914a-ad0f440ae660",
   "metadata": {},
   "outputs": [],
   "source": [
    "############ Changing the granularity of a series\n",
    "starbucks_stocks.head()"
   ]
  },
  {
   "cell_type": "code",
   "execution_count": null,
   "id": "12f32d9b-0b7b-490a-b265-8ffaa17bf491",
   "metadata": {},
   "outputs": [],
   "source": [
    "# Take the annual mean\n",
    "starbucks_stocks.resample(rule='A').mean()"
   ]
  },
  {
   "cell_type": "code",
   "execution_count": null,
   "id": "9bb81f7b-fa33-4088-976e-e69861d7712c",
   "metadata": {},
   "outputs": [],
   "source": [
    "# Take the weekly mean\n",
    "starbucks_stocks.resample(rule='W').mean()"
   ]
  },
  {
   "cell_type": "code",
   "execution_count": null,
   "id": "4c2a00c8-c083-4faa-9daf-3c83fae18bca",
   "metadata": {},
   "outputs": [],
   "source": [
    "# Define a new function to take the first observation of each period\n",
    "def first_observation(entry):\n",
    "    if len(entry):  # handles the case of missing data\n",
    "        return entry.iloc[0]\n",
    "# Take the first observation per week\n",
    "starbucks_stocks.resample(rule='W').apply(first_observation)"
   ]
  },
  {
   "cell_type": "code",
   "execution_count": null,
   "id": "50e1dabc-d9dd-4842-af69-e20eb24166c0",
   "metadata": {},
   "outputs": [],
   "source": [
    "temperature = pd.read_csv('temperatures.csv', index_col='time', parse_dates=True)\n",
    "temperature.head()"
   ]
  },
  {
   "cell_type": "code",
   "execution_count": null,
   "id": "4a8974df-903a-4652-ad83-7c8e7b8f5810",
   "metadata": {},
   "outputs": [],
   "source": [
    "temperature.index[3]-temperature.index[2]"
   ]
  },
  {
   "cell_type": "code",
   "execution_count": null,
   "id": "cdf4738a-db82-4249-8617-3378129e4ec2",
   "metadata": {},
   "outputs": [],
   "source": [
    "# Take the first observation in every hour\n",
    "temperature.resample(rule='h').apply(first_observation)"
   ]
  },
  {
   "cell_type": "code",
   "execution_count": null,
   "id": "26c88bc9-f7d0-412e-83b1-387e5a4c6444",
   "metadata": {},
   "outputs": [],
   "source": []
  }
 ],
 "metadata": {
  "kernelspec": {
   "display_name": "Python 3",
   "language": "python",
   "name": "python3"
  },
  "language_info": {
   "codemirror_mode": {
    "name": "ipython",
    "version": 3
   },
   "file_extension": ".py",
   "mimetype": "text/x-python",
   "name": "python",
   "nbconvert_exporter": "python",
   "pygments_lexer": "ipython3",
   "version": "3.7.2"
  }
 },
 "nbformat": 4,
 "nbformat_minor": 5
}
